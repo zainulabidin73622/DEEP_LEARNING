{
  "nbformat": 4,
  "nbformat_minor": 0,
  "metadata": {
    "colab": {
      "provenance": [],
      "include_colab_link": true
    },
    "kernelspec": {
      "name": "python3",
      "display_name": "Python 3"
    },
    "language_info": {
      "name": "python"
    }
  },
  "cells": [
    {
      "cell_type": "markdown",
      "metadata": {
        "id": "view-in-github",
        "colab_type": "text"
      },
      "source": [
        "<a href=\"https://colab.research.google.com/github/zainulabidin73622/DEEP_LEARNING/blob/main/celoss_multiclass_classification_180325.ipynb\" target=\"_parent\"><img src=\"https://colab.research.google.com/assets/colab-badge.svg\" alt=\"Open In Colab\"/></a>"
      ]
    },
    {
      "cell_type": "code",
      "execution_count": null,
      "metadata": {
        "colab": {
          "base_uri": "https://localhost:8080/"
        },
        "id": "tZe5Kult2s_V",
        "outputId": "c6d4726a-72d2-4ab1-93e5-2346e5cc7f97"
      },
      "outputs": [
        {
          "output_type": "stream",
          "name": "stdout",
          "text": [
            "Softmax Probabilities:\n",
            " [[0.5360693  0.19720887 0.08017914 0.08861166 0.09793103]\n",
            " [0.09417149 0.69583842 0.06976396 0.07710109 0.06312504]\n",
            " [0.03848635 0.042534   0.69945654 0.06345327 0.15606985]]\n",
            "\n",
            "Log of Softmax Probabilities:\n",
            " [[-0.62349184 -1.62349184 -2.52349184 -2.42349184 -2.32349184]\n",
            " [-2.3626378  -0.3626378  -2.6626378  -2.5626378  -2.7626378 ]\n",
            " [-3.25745162 -3.15745162 -0.35745162 -2.75745162 -1.85745162]]\n",
            "\n",
            "y_true * log(probs):\n",
            " [[-0.62349184 -0.         -0.         -2.42349184 -0.        ]\n",
            " [-0.         -0.3626378  -0.         -2.5626378  -2.7626378 ]\n",
            " [-0.         -0.         -0.35745162 -2.75745162 -0.        ]]\n",
            "\n",
            "CE Loss per Sample: [3.04698369 5.68791339 3.11490324]\n",
            "\n",
            "Average CE Loss for the Dataset: 3.949933439390572\n"
          ]
        }
      ],
      "source": [
        "import numpy as np\n",
        "\n",
        "# Ground truth labels (one-hot encoded)\n",
        "y_true = np.array([\n",
        "    [1, 0, 0,1,0],  # Sample 1: Class 1\n",
        "    [0, 1, 0,1,1],  # Sample 2: Class 2\n",
        "    [0, 0, 1,1,0],  # Sample 3: Class 3\n",
        "\n",
        "\n",
        "])\n",
        "\n",
        "# Model predictions (logits)\n",
        "logits = np.array([\n",
        "    [2.0, 1.0, 0.1,0.2,0.3],  # Sample 1\n",
        "    [0.5, 2.5, 0.2,0.3,0.1],  # Sample 2\n",
        "    [0.1, 0.2, 3.0,0.6,1.5] ,  # Sample 3\n",
        "\n",
        "\n",
        "])\n",
        "\n",
        "# Softmax function\n",
        "def softmax(x):\n",
        "    exp_x = np.exp(x - np.max(x, axis=-1, keepdims=True))  # Numerical stability\n",
        "    return exp_x / np.sum(exp_x, axis=-1, keepdims=True)\n",
        "\n",
        "# Compute softmax probabilities\n",
        "probs = softmax(logits)\n",
        "print(\"Softmax Probabilities:\\n\", probs)\n",
        "\n",
        "# Compute log(probs)\n",
        "log_probs = np.log(probs)\n",
        "print(\"\\nLog of Softmax Probabilities:\\n\", log_probs)\n",
        "\n",
        "# Compute y_true * log(probs)\n",
        "y_true_log_probs = y_true * log_probs\n",
        "print(\"\\ny_true * log(probs):\\n\", y_true_log_probs)\n",
        "\n",
        "# Compute CE loss for each sample\n",
        "ce_loss = -np.sum(y_true_log_probs, axis=-1)\n",
        "print(\"\\nCE Loss per Sample:\", ce_loss)\n",
        "\n",
        "# Average CE loss for the dataset\n",
        "avg_ce_loss = np.mean(ce_loss)\n",
        "print(\"\\nAverage CE Loss for the Dataset:\", avg_ce_loss)"
      ]
    }
  ]
}
