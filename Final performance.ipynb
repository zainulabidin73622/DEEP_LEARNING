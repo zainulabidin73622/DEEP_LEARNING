{
  "nbformat": 4,
  "nbformat_minor": 0,
  "metadata": {
    "colab": {
      "provenance": [],
      "gpuType": "T4",
      "include_colab_link": true
    },
    "kernelspec": {
      "name": "python3",
      "display_name": "Python 3"
    },
    "language_info": {
      "name": "python"
    },
    "accelerator": "GPU"
  },
  "cells": [
    {
      "cell_type": "markdown",
      "metadata": {
        "id": "view-in-github",
        "colab_type": "text"
      },
      "source": [
        "<a href=\"https://colab.research.google.com/github/zainulabidin73622/DEEP_LEARNING/blob/main/Final%20performance.ipynb\" target=\"_parent\"><img src=\"https://colab.research.google.com/assets/colab-badge.svg\" alt=\"Open In Colab\"/></a>"
      ]
    },
    {
      "cell_type": "code",
      "source": [
        "import numpy as np\n",
        "import matplotlib.pyplot as plt\n",
        "\n",
        "# Network configuration\n",
        "input_size = 2\n",
        "hidden1_size = 2\n",
        "hidden2_size = 2\n",
        "output_size = 2\n",
        "\n",
        "# Initialize weights and biases\n",
        "np.random.seed(42)  # For reproducibility\n",
        "W1 = np.random.randn(input_size, hidden1_size)\n",
        "b1 = np.zeros((1, hidden1_size))\n",
        "W2 = np.random.randn(hidden1_size, hidden2_size)\n",
        "b2 = np.zeros((1, hidden2_size))\n",
        "W3 = np.random.randn(hidden2_size, output_size)\n",
        "b3 = np.zeros((1, output_size))\n",
        "\n",
        "print(\"Initial W1:\\n\", W1)\n",
        "print(\"Initial b1:\\n\", b1)"
      ],
      "metadata": {
        "colab": {
          "base_uri": "https://localhost:8080/"
        },
        "id": "fRGe5B7X1XRH",
        "outputId": "310d0af9-3262-4569-f13d-86aa8c6a7a74"
      },
      "execution_count": 1,
      "outputs": [
        {
          "output_type": "stream",
          "name": "stdout",
          "text": [
            "Initial W1:\n",
            " [[ 0.49671415 -0.1382643 ]\n",
            " [ 0.64768854  1.52302986]]\n",
            "Initial b1:\n",
            " [[0. 0.]]\n"
          ]
        }
      ]
    },
    {
      "cell_type": "code",
      "source": [
        "def sigmoid(x):\n",
        "    return 1 / (1 + np.exp(-x))\n",
        "\n",
        "def sigmoid_derivative(x):\n",
        "    return x * (1 - x)\n",
        "\n",
        "# Test the activation function\n",
        "test_input = np.array([0.5, -0.3])\n",
        "print(\"Sigmoid of\", test_input, \"is\", sigmoid(test_input))"
      ],
      "metadata": {
        "colab": {
          "base_uri": "https://localhost:8080/"
        },
        "id": "spGjGDL02mHY",
        "outputId": "f44fbb3f-3b3c-4357-c51d-2624671ae344"
      },
      "execution_count": 2,
      "outputs": [
        {
          "output_type": "stream",
          "name": "stdout",
          "text": [
            "Sigmoid of [ 0.5 -0.3] is [0.62245933 0.42555748]\n"
          ]
        }
      ]
    },
    {
      "cell_type": "code",
      "source": [
        "def forward_propagation(X, W1, b1, W2, b2, W3, b3):\n",
        "    # Hidden layer 1\n",
        "    z1 = np.dot(X, W1) + b1\n",
        "    a1 = sigmoid(z1)\n",
        "\n",
        "    # Hidden layer 2\n",
        "    z2 = np.dot(a1, W2) + b2\n",
        "    a2 = sigmoid(z2)\n",
        "\n",
        "    # Output layer\n",
        "    z3 = np.dot(a2, W3) + b3\n",
        "    a3 = sigmoid(z3)\n",
        "\n",
        "    return z1, a1, z2, a2, z3, a3\n",
        "\n",
        "# Test forward propagation\n",
        "X = np.array([[0.5, 0.8]])  # Input sample\n",
        "z1, a1, z2, a2, z3, a3 = forward_propagation(X, W1, b1, W2, b2, W3, b3)\n",
        "print(\"\\nForward Propagation Results:\")\n",
        "print(\"Hidden Layer 1 - Weighted Sum (z1):\", z1)\n",
        "print(\"Hidden Layer 1 - Activation (a1):\", a1)\n",
        "print(\"Hidden Layer 2 - Weighted Sum (z2):\", z2)\n",
        "print(\"Hidden Layer 2 - Activation (a2):\", a2)\n",
        "print(\"Output Layer - Weighted Sum (z3):\", z3)\n",
        "print(\"Output Layer - Activation (a3):\", a3)"
      ],
      "metadata": {
        "colab": {
          "base_uri": "https://localhost:8080/"
        },
        "id": "lXpgkocn2pG3",
        "outputId": "685b0dce-bc57-4fe4-fc3b-ff6efaee9e76"
      },
      "execution_count": 3,
      "outputs": [
        {
          "output_type": "stream",
          "name": "stdout",
          "text": [
            "\n",
            "Forward Propagation Results:\n",
            "Hidden Layer 1 - Weighted Sum (z1): [[0.76650791 1.14929173]]\n",
            "Hidden Layer 1 - Activation (a1): [[0.682765   0.75938153]]\n",
            "Hidden Layer 2 - Weighted Sum (z2): [[1.03935331 0.42291524]]\n",
            "Hidden Layer 2 - Activation (a2): [[0.73872521 0.60418063]]\n",
            "Output Layer - Weighted Sum (z3): [[-0.62680056  0.11941788]]\n",
            "Output Layer - Activation (a3): [[0.34823636 0.52981904]]\n"
          ]
        }
      ]
    },
    {
      "cell_type": "code",
      "source": [
        "def compute_error(y, output):\n",
        "    # Mean squared error\n",
        "    return 0.5 * np.mean((y - output) ** 2)\n",
        "\n",
        "# Target output\n",
        "y = np.array([[0.2, 0.9]])\n",
        "error = compute_error(y, a3)\n",
        "print(\"\\nInitial Error:\", error)"
      ],
      "metadata": {
        "colab": {
          "base_uri": "https://localhost:8080/"
        },
        "id": "7lxLrAZo2qIU",
        "outputId": "aadc2f74-d3c1-46e2-a1e6-68324016ffb9"
      },
      "execution_count": 4,
      "outputs": [
        {
          "output_type": "stream",
          "name": "stdout",
          "text": [
            "\n",
            "Initial Error: 0.03975198947520796\n"
          ]
        }
      ]
    },
    {
      "cell_type": "code",
      "source": [
        "def backward_propagation(X, y, z1, a1, z2, a2, z3, a3, W1, W2, W3, b1, b2, b3, learning_rate):\n",
        "    # Calculate output layer error\n",
        "    error_output = y - a3\n",
        "    delta3 = error_output * sigmoid_derivative(a3)\n",
        "\n",
        "    # Calculate hidden layer 2 error\n",
        "    error2 = delta3.dot(W3.T)\n",
        "    delta2 = error2 * sigmoid_derivative(a2)\n",
        "\n",
        "    # Calculate hidden layer 1 error\n",
        "    error1 = delta2.dot(W2.T)\n",
        "    delta1 = error1 * sigmoid_derivative(a1)\n",
        "\n",
        "    # Update weights and biases\n",
        "    W3 += learning_rate * a2.T.dot(delta3)\n",
        "    b3 += learning_rate * np.sum(delta3, axis=0, keepdims=True)\n",
        "    W2 += learning_rate * a1.T.dot(delta2)\n",
        "    b2 += learning_rate * np.sum(delta2, axis=0, keepdims=True)\n",
        "    W1 += learning_rate * X.T.dot(delta1)\n",
        "    b1 += learning_rate * np.sum(delta1, axis=0, keepdims=True)\n",
        "\n",
        "    return W1, b1, W2, b2, W3, b3, delta1, delta2, delta3\n",
        "\n",
        "# Test backward propagation\n",
        "learning_rate = 0.1\n",
        "W1, b1, W2, b2, W3, b3, delta1, delta2, delta3 = backward_propagation(\n",
        "    X, y, z1, a1, z2, a2, z3, a3, W1, W2, W3, b1, b2, b3, learning_rate)\n",
        "\n",
        "print(\"\\nBackpropagation Results:\")\n",
        "print(\"Delta Output Layer:\", delta3)\n",
        "print(\"Delta Hidden Layer 2:\", delta2)\n",
        "print(\"Delta Hidden Layer 1:\", delta1)\n",
        "print(\"\\nUpdated W1:\\n\", W1)\n",
        "print(\"Updated b1:\\n\", b1)\n",
        "print(\"Updated W2:\\n\", W2)\n",
        "print(\"Updated b2:\\n\", b2)\n",
        "print(\"Updated W3:\\n\", W3)\n",
        "print(\"Updated b3:\\n\", b3)"
      ],
      "metadata": {
        "colab": {
          "base_uri": "https://localhost:8080/"
        },
        "id": "WNjJBo_l2u6c",
        "outputId": "6f331c59-8f5a-4fa2-bdde-2af2a4e9906c"
      },
      "execution_count": 5,
      "outputs": [
        {
          "output_type": "stream",
          "name": "stdout",
          "text": [
            "\n",
            "Backpropagation Results:\n",
            "Delta Output Layer: [[-0.03364488  0.09221608]]\n",
            "Delta Hidden Layer 2: [[ 0.01270551 -0.00654212]]\n",
            "Delta Hidden Layer 1: [[-0.00031261  0.00274887]]\n",
            "\n",
            "Updated W1:\n",
            " [[ 0.49669852 -0.13812686]\n",
            " [ 0.64766353  1.52324977]]\n",
            "Updated b1:\n",
            " [[-3.12611385e-05  2.74886860e-04]]\n",
            "Updated W2:\n",
            " [[-0.23328589 -0.23458363]\n",
            " [ 1.58017765  0.76693793]]\n",
            "Updated b2:\n",
            " [[ 0.00127055 -0.00065421]]\n",
            "Updated W3:\n",
            " [[-0.47195982  0.54937228]\n",
            " [-0.46545045 -0.46015824]]\n",
            "Updated b3:\n",
            " [[-0.00336449  0.00922161]]\n"
          ]
        }
      ]
    },
    {
      "cell_type": "code",
      "source": [
        "def train_network(X, y, epochs=1000, learning_rate=0.1, verbose=True):\n",
        "    global W1, b1, W2, b2, W3, b3\n",
        "\n",
        "    errors = []\n",
        "\n",
        "    for epoch in range(epochs):\n",
        "        # Forward propagation\n",
        "        z1, a1, z2, a2, z3, a3 = forward_propagation(X, W1, b1, W2, b2, W3, b3)\n",
        "\n",
        "        # Compute error\n",
        "        error = compute_error(y, a3)\n",
        "        errors.append(error)\n",
        "\n",
        "        # Backward propagation\n",
        "        W1, b1, W2, b2, W3, b3, _, _, _ = backward_propagation(\n",
        "            X, y, z1, a1, z2, a2, z3, a3, W1, W2, W3, b1, b2, b3, learning_rate)\n",
        "\n",
        "        # Print intermediate values\n",
        "        if verbose and epoch % (epochs//10) == 0:\n",
        "            print(f\"\\nEpoch {epoch}: Error = {error:.6f}\")\n",
        "            print(\"Output Activations:\", a3)\n",
        "\n",
        "    # Plot the error over epochs\n",
        "    plt.figure(figsize=(8, 5))\n",
        "    plt.plot(range(epochs), errors)\n",
        "    plt.title('Error over Training Epochs')\n",
        "    plt.xlabel('Epochs')\n",
        "    plt.ylabel('Total Error')\n",
        "    plt.grid(True)\n",
        "    plt.show()\n",
        "\n",
        "    return errors\n",
        "\n",
        "# Train the network\n",
        "errors = train_network(X, y, epochs=1000, learning_rate=0.1)"
      ],
      "metadata": {
        "colab": {
          "base_uri": "https://localhost:8080/",
          "height": 1000
        },
        "id": "G5a-Q1jW2wcU",
        "outputId": "d95fd3db-252b-4ec0-af22-292905f677c5"
      },
      "execution_count": 6,
      "outputs": [
        {
          "output_type": "stream",
          "name": "stdout",
          "text": [
            "\n",
            "Epoch 0: Error = 0.038816\n",
            "Output Activations: [[0.34675379 0.534313  ]]\n",
            "\n",
            "Epoch 100: Error = 0.006005\n",
            "Output Activations: [[0.26078474 0.75742982]]\n",
            "\n",
            "Epoch 200: Error = 0.001884\n",
            "Output Activations: [[0.22945642 0.81834869]]\n",
            "\n",
            "Epoch 300: Error = 0.000801\n",
            "Output Activations: [[0.21528622 0.84548612]]\n",
            "\n",
            "Epoch 400: Error = 0.000401\n",
            "Output Activations: [[0.20814678 0.86076582]]\n",
            "\n",
            "Epoch 500: Error = 0.000222\n",
            "Output Activations: [[0.20435647 0.87050249]]\n",
            "\n",
            "Epoch 600: Error = 0.000131\n",
            "Output Activations: [[0.20229559 0.87718976]]\n",
            "\n",
            "Epoch 700: Error = 0.000081\n",
            "Output Activations: [[0.20116684 0.88201573]]\n",
            "\n",
            "Epoch 800: Error = 0.000052\n",
            "Output Activations: [[0.20055137 0.88562123]]\n",
            "\n",
            "Epoch 900: Error = 0.000034\n",
            "Output Activations: [[0.20022097 0.88838373]]\n"
          ]
        },
        {
          "output_type": "display_data",
          "data": {
            "text/plain": [
              "<Figure size 800x500 with 1 Axes>"
            ],
            "image/png": "[encoded data removed]"
          },
          "metadata": {}
        }
      ]
    },
    {
      "cell_type": "code",
      "source": [
        "# After training, evaluate the final performance\n",
        "z1, a1, z2, a2, z3, a3 = forward_propagation(X, W1, b1, W2, b2, W3, b3)\n",
        "final_error = compute_error(y, a3)\n",
        "\n",
        "print(\"\\nFinal Results:\")\n",
        "print(\"Target Output:\", y)\n",
        "print(\"Predicted Output:\", a3)\n",
        "print(\"Final Error:\", final_error)\n",
        "print(\"\\nFinal Weights and Biases:\")\n",
        "print(\"W1:\\n\", W1)\n",
        "print(\"b1:\\n\", b1)\n",
        "print(\"W2:\\n\", W2)\n",
        "print(\"b2:\\n\", b2)\n",
        "print(\"W3:\\n\", W3)\n",
        "print(\"b3:\\n\", b3)"
      ],
      "metadata": {
        "colab": {
          "base_uri": "https://localhost:8080/"
        },
        "id": "yo5UImCv25us",
        "outputId": "ef69e8d8-a38d-44d4-86a0-da7fc4de0409"
      },
      "execution_count": 7,
      "outputs": [
        {
          "output_type": "stream",
          "name": "stdout",
          "text": [
            "\n",
            "Final Results:\n",
            "Target Output: [[0.2 0.9]]\n",
            "Predicted Output: [[0.20004888 0.89054078]]\n",
            "Final Error: 2.2369803324179315e-05\n",
            "\n",
            "Final Weights and Biases:\n",
            "W1:\n",
            " [[ 0.49299262 -0.10975178]\n",
            " [ 0.64173409  1.56864989]]\n",
            "b1:\n",
            " [[-0.00744307  0.05702504]]\n",
            "W2:\n",
            " [[-0.10445651 -0.22823067]\n",
            " [ 1.72550697  0.77434448]]\n",
            "b2:\n",
            " [[0.19037015 0.0087201 ]]\n",
            "W3:\n",
            " [[-0.74822449  1.29447542]\n",
            " [-0.6809792   0.11986684]]\n",
            "b3:\n",
            " [[-0.36159658  0.97185233]]\n"
          ]
        }
      ]
    }
  ]
}