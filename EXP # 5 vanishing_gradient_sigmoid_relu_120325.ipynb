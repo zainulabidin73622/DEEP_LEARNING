{
  "nbformat": 4,
  "nbformat_minor": 0,
  "metadata": {
    "colab": {
      "provenance": [],
      "include_colab_link": true
    },
    "kernelspec": {
      "name": "python3",
      "display_name": "Python 3"
    },
    "language_info": {
      "name": "python"
    }
  },
  "cells": [
    {
      "cell_type": "markdown",
      "metadata": {
        "id": "view-in-github",
        "colab_type": "text"
      },
      "source": [
        "<a href=\"https://colab.research.google.com/github/zainulabidin73622/DEEP_LEARNING/blob/main/EXP%20%23%205%20vanishing_gradient_sigmoid_relu_120325.ipynb\" target=\"_parent\"><img src=\"https://colab.research.google.com/assets/colab-badge.svg\" alt=\"Open In Colab\"/></a>"
      ]
    },
    {
      "cell_type": "code",
      "source": [
        "print(\"=== [4] Backward Pass: Sigmoid Network ===\")\n",
        "\n",
        "dL_dy_pred_sigmoid = -(y - y_pred_sigmoid)\n",
        "dy_pred_dz3_sigmoid = sigmoid_derivative(z3_sigmoid)\n",
        "dL_dw3_sigmoid = dL_dy_pred_sigmoid * dy_pred_dz3_sigmoid * a2_sigmoid\n",
        "\n",
        "dL_da2_sigmoid = dL_dy_pred_sigmoid * dy_pred_dz3_sigmoid * w3\n",
        "da2_dz2_sigmoid = sigmoid_derivative(z2_sigmoid)\n",
        "dL_dw2_sigmoid = dL_da2_sigmoid * da2_dz2_sigmoid * a1_sigmoid\n",
        "\n",
        "dL_da1_sigmoid = dL_da2_sigmoid * da2_dz2_sigmoid * w2\n",
        "da1_dz1_sigmoid = sigmoid_derivative(z1_sigmoid)\n",
        "dL_dw1_sigmoid = dL_da1_sigmoid * da1_dz1_sigmoid * x\n",
        "\n",
        "print(f\"dL/dw3: {dL_dw3_sigmoid:.4f}, dL/dw2: {dL_dw2_sigmoid:.4f}, dL/dw1: {dL_dw1_sigmoid:.4f}\\n\")\n"
      ],
      "metadata": {
        "colab": {
          "base_uri": "https://localhost:8080/"
        },
        "id": "OZDfc8_FfVgG",
        "outputId": "a7839e73-18ae-4cac-8bea-104729550d2a"
      },
      "execution_count": null,
      "outputs": [
        {
          "output_type": "stream",
          "name": "stdout",
          "text": [
            "=== [4] Backward Pass: Sigmoid Network ===\n",
            "dL/dw3: -0.0605, dL/dw2: -0.0080, dL/dw1: -0.0015\n",
            "\n"
          ]
        }
      ]
    },
    {
      "cell_type": "code",
      "source": [
        "print(\"=== [5] Forward Pass: ReLU Network ===\")\n",
        "\n",
        "z1_relu = w1 * x + b1\n",
        "a1_relu = relu(z1_relu)\n",
        "\n",
        "z2_relu = w2 * a1_relu + b2\n",
        "a2_relu = relu(z2_relu)\n",
        "\n",
        "z3_relu = w3 * a2_relu + b3\n",
        "y_pred_relu = relu(z3_relu)\n",
        "\n",
        "loss_relu = 0.5 * (y - y_pred_relu) ** 2\n",
        "\n",
        "print(f\"a1: {a1_relu:.4f}, a2: {a2_relu:.4f}, y_pred: {y_pred_relu:.4f}, Loss: {loss_relu:.4f}\\n\")\n"
      ],
      "metadata": {
        "colab": {
          "base_uri": "https://localhost:8080/"
        },
        "id": "zPny5u4vfeK-",
        "outputId": "e5c9b55b-1817-4e51-a4ce-cbee963c0c35"
      },
      "execution_count": null,
      "outputs": [
        {
          "output_type": "stream",
          "name": "stdout",
          "text": [
            "=== [5] Forward Pass: ReLU Network ===\n",
            "a1: 0.5000, a2: 0.2500, y_pred: 0.1250, Loss: 0.3828\n",
            "\n"
          ]
        }
      ]
    },
    {
      "cell_type": "code",
      "source": [
        "print(\"=== [6] Backward Pass: ReLU Network ===\")\n",
        "\n",
        "dL_dy_pred_relu = -(y - y_pred_relu)\n",
        "dy_pred_dz3_relu = relu_derivative(z3_relu)\n",
        "dL_dw3_relu = dL_dy_pred_relu * dy_pred_dz3_relu * a2_relu\n",
        "\n",
        "dL_da2_relu = dL_dy_pred_relu * dy_pred_dz3_relu * w3\n",
        "da2_dz2_relu = relu_derivative(z2_relu)\n",
        "dL_dw2_relu = dL_da2_relu * da2_dz2_relu * a1_relu\n",
        "\n",
        "dL_da1_relu = dL_da2_relu * da2_dz2_relu * w2\n",
        "da1_dz1_relu = relu_derivative(z1_relu)\n",
        "dL_dw1_relu = dL_da1_relu * da1_dz1_relu * x\n",
        "\n",
        "print(f\"dL/dw3: {dL_dw3_relu:.4f}, dL/dw2: {dL_dw2_relu:.4f}, dL/dw1: {dL_dw1_relu:.4f}\\n\")\n"
      ],
      "metadata": {
        "colab": {
          "base_uri": "https://localhost:8080/"
        },
        "id": "g3UhlsGHfg6n",
        "outputId": "537aef36-4837-4b9e-e409-762e756fc420"
      },
      "execution_count": null,
      "outputs": [
        {
          "output_type": "stream",
          "name": "stdout",
          "text": [
            "=== [6] Backward Pass: ReLU Network ===\n",
            "dL/dw3: -0.2188, dL/dw2: -0.2188, dL/dw1: -0.2188\n",
            "\n"
          ]
        }
      ]
    },
    {
      "cell_type": "code",
      "source": [
        "print(\"=== [7] Final Comparison: Sigmoid vs ReLU Gradients ===\")\n",
        "\n",
        "print(\"--- Sigmoid Gradients ---\")\n",
        "print(f\"dL/dw3: {dL_dw3_sigmoid:.4f}\")\n",
        "print(f\"dL/dw2: {dL_dw2_sigmoid:.4f}\")\n",
        "print(f\"dL/dw1: {dL_dw1_sigmoid:.4f}\")\n",
        "\n",
        "print(\"\\n--- ReLU Gradients ---\")\n",
        "print(f\"dL/dw3: {dL_dw3_relu:.4f}\")\n",
        "print(f\"dL/dw2: {dL_dw2_relu:.4f}\")\n",
        "print(f\"dL/dw1: {dL_dw1_relu:.4f}\")\n"
      ],
      "metadata": {
        "colab": {
          "base_uri": "https://localhost:8080/"
        },
        "id": "CvBNi6sYfkZu",
        "outputId": "0ad2ce86-d88b-452d-c868-be707c1ce934"
      },
      "execution_count": null,
      "outputs": [
        {
          "output_type": "stream",
          "name": "stdout",
          "text": [
            "=== [7] Final Comparison: Sigmoid vs ReLU Gradients ===\n",
            "--- Sigmoid Gradients ---\n",
            "dL/dw3: -0.0605\n",
            "dL/dw2: -0.0080\n",
            "dL/dw1: -0.0015\n",
            "\n",
            "--- ReLU Gradients ---\n",
            "dL/dw3: -0.2188\n",
            "dL/dw2: -0.2188\n",
            "dL/dw1: -0.2188\n"
          ]
        }
      ]
    }
  ]
}